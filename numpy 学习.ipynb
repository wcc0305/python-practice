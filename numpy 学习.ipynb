{
 "cells": [
  {
   "cell_type": "markdown",
   "metadata": {},
   "source": [
    "https://docs.scipy.org/doc/numpy-dev/user/quickstart.html \n",
    "核心就是numpy.ndarray 这个同质多维数组\n"
   ]
  },
  {
   "cell_type": "code",
   "execution_count": 28,
   "metadata": {
    "collapsed": true
   },
   "outputs": [],
   "source": [
    "import numpy as np"
   ]
  },
  {
   "cell_type": "code",
   "execution_count": 30,
   "metadata": {
    "collapsed": false
   },
   "outputs": [],
   "source": [
    "#Array Creation\n",
    "a = np.array([2,3,4])\n",
    "b = np.arange(15)\n",
    "c = np.arange(1,10,1).reshape(3,3)\n",
    "d = np.zeros(12).reshape(3,4)"
   ]
  },
  {
   "cell_type": "code",
   "execution_count": 31,
   "metadata": {
    "collapsed": false
   },
   "outputs": [
    {
     "name": "stdout",
     "output_type": "stream",
     "text": [
      "(3L, 3L)\n",
      "int32\n",
      "<type 'numpy.ndarray'>\n",
      "[[1 2 3]\n",
      " [4 5 6]\n",
      " [7 8 9]]\n"
     ]
    }
   ],
   "source": [
    "#Attributes\n",
    "print c.shape\n",
    "print c.dtype\n",
    "print type(c)\n",
    "print c"
   ]
  },
  {
   "cell_type": "code",
   "execution_count": 32,
   "metadata": {
    "collapsed": false
   },
   "outputs": [
    {
     "name": "stdout",
     "output_type": "stream",
     "text": [
      "[ 8 27 64]\n",
      "[ 4  9 16]\n",
      "29\n",
      "[4 6 8]\n",
      "[False False  True]\n",
      "[  7.3890561   20.08553692  54.59815003]\n",
      "[[1 2 3]\n",
      " [4 5 6]\n",
      " [7 8 9]]\n",
      "[12 15 18]\n",
      "[ 6 15 24]\n",
      "[7 8 9]\n"
     ]
    }
   ],
   "source": [
    "#Basic Operations\n",
    "print a**3 #乘方\n",
    "print a*a #对应元素相乘\n",
    "print a.dot(a.T) #矩阵乘法\n",
    "print a+a\n",
    "print a>3\n",
    "print np.exp(a)\n",
    "\n",
    "\n",
    "print c\n",
    "print c.sum(axis=0)  #axis=0,是指列这个轴\n",
    "print c.sum(axis=1)\n",
    "print c.max(axis=0)"
   ]
  },
  {
   "cell_type": "code",
   "execution_count": 33,
   "metadata": {
    "collapsed": false
   },
   "outputs": [
    {
     "name": "stdout",
     "output_type": "stream",
     "text": [
      "[3 4]\n",
      "[[2 3 4]\n",
      " [2 3 4]]\n",
      "[2 3 4 2 3 4]\n",
      "[2 3 4]\n",
      "[4]\n"
     ]
    }
   ],
   "source": [
    "#Indexing, Slicing and Stacking together\n",
    "print a[1:3]\n",
    "print np.vstack((a,a)) #沿axis=0，何并\n",
    "print np.hstack((a,a)) #沿axis=1，何并\n",
    "b=np.vstack((a,a))\n",
    "print b[0,:]\n",
    "\n",
    "print a[a>3] #Indexing with Boolean Arrays"
   ]
  },
  {
   "cell_type": "code",
   "execution_count": 34,
   "metadata": {
    "collapsed": false
   },
   "outputs": [
    {
     "name": "stdout",
     "output_type": "stream",
     "text": [
      "[2 3 4]\n",
      "[[1 2 3]\n",
      " [4 5 6]\n",
      " [7 8 9]]\n",
      "[ 6  9 12]\n",
      "[[ 3  5  7]\n",
      " [ 6  8 10]\n",
      " [ 9 11 13]]\n"
     ]
    }
   ],
   "source": [
    "#Broadcasting  \n",
    "#    Broadcasting allows universal functions to deal in a meaningful way with inputs that do not have exactly the same shape.\n",
    "print a\n",
    "print c\n",
    "print a*3\n",
    "print c+a"
   ]
  },
  {
   "cell_type": "code",
   "execution_count": 37,
   "metadata": {
    "collapsed": false
   },
   "outputs": [
    {
     "name": "stdout",
     "output_type": "stream",
     "text": [
      "[[ 1.  2.]\n",
      " [ 3.  4.]]\n",
      "[[  7.  10.]\n",
      " [ 15.  22.]]\n",
      "[[ 1.  3.]\n",
      " [ 2.  4.]]\n",
      "[[-2.   1. ]\n",
      " [ 1.5 -0.5]]\n",
      "(array([-0.37228132,  5.37228132]), array([[-0.82456484, -0.41597356],\n",
      "       [ 0.56576746, -0.90937671]]))\n"
     ]
    }
   ],
   "source": [
    "#Linear Algebra\n",
    "a = np.array([[1.0, 2.0], [3.0, 4.0]])\n",
    "print a\n",
    "print a.dot(a)\n",
    "print a.T\n",
    "print np.linalg.inv(a)\n",
    "print np.linalg.eig(a)\n"
   ]
  },
  {
   "cell_type": "code",
   "execution_count": 42,
   "metadata": {
    "collapsed": false
   },
   "outputs": [
    {
     "name": "stdout",
     "output_type": "stream",
     "text": [
      "3\n",
      "[2 3 4]\n",
      "[2 3 4]\n"
     ]
    }
   ],
   "source": [
    "a = np.array([2,3,4])\n",
    "print a[1]\n",
    "b=a.T\n",
    "print a\n",
    "print b"
   ]
  },
  {
   "cell_type": "code",
   "execution_count": null,
   "metadata": {
    "collapsed": true
   },
   "outputs": [],
   "source": []
  }
 ],
 "metadata": {
  "anaconda-cloud": {},
  "kernelspec": {
   "display_name": "Python [conda root]",
   "language": "python",
   "name": "conda-root-py"
  },
  "language_info": {
   "codemirror_mode": {
    "name": "ipython",
    "version": 2
   },
   "file_extension": ".py",
   "mimetype": "text/x-python",
   "name": "python",
   "nbconvert_exporter": "python",
   "pygments_lexer": "ipython2",
   "version": "2.7.12"
  }
 },
 "nbformat": 4,
 "nbformat_minor": 1
}
